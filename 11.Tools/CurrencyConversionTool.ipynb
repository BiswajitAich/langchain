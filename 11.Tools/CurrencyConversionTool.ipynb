{
 "cells": [
  {
   "cell_type": "code",
   "execution_count": 34,
   "id": "7e012d98",
   "metadata": {},
   "outputs": [],
   "source": [
    "from langchain_google_genai import ChatGoogleGenerativeAI\n",
    "from langchain_core.tools import tool\n",
    "from langchain_core.messages import HumanMessage\n",
    "import requests\n",
    "from dotenv import load_dotenv\n",
    "import os\n",
    "from langchain_core.tools import InjectedToolArg\n",
    "from typing import Annotated\n",
    "import json\n",
    "load_dotenv()\n",
    "EXCHANGERATE_API = os.getenv(\"EXCHANGERATE_API\")"
   ]
  },
  {
   "cell_type": "code",
   "execution_count": 26,
   "id": "3c08489d",
   "metadata": {},
   "outputs": [],
   "source": [
    "@tool\n",
    "def get_conversion_factor(base_currency: str, target_currency: str)-> str:\n",
    "    \"\"\"\n",
    "    This function fetches the currency conversion factor between a given base currency and target currency\n",
    "    \"\"\"\n",
    "    url = f\"https://v6.exchangerate-api.com/v6/{EXCHANGERATE_API}/pair/{base_currency}/{target_currency}\"\n",
    "    response = requests.get(url=url)\n",
    "    return response.json()\n",
    "\n",
    "@tool\n",
    "def convert(base_currency_value: int, conversion_rate: Annotated[float, InjectedToolArg])->float:\n",
    "    \"\"\"\n",
    "    given a currency conversion rate this function calculate the target currency value from a given base currency value\n",
    "    \"\"\"\n",
    "    return base_currency_value * conversion_rate"
   ]
  },
  {
   "cell_type": "code",
   "execution_count": 14,
   "id": "44b90c12",
   "metadata": {},
   "outputs": [
    {
     "data": {
      "text/plain": [
       "{'result': 'success',\n",
       " 'documentation': 'https://www.exchangerate-api.com/docs',\n",
       " 'terms_of_use': 'https://www.exchangerate-api.com/terms',\n",
       " 'time_last_update_unix': 1745625602,\n",
       " 'time_last_update_utc': 'Sat, 26 Apr 2025 00:00:02 +0000',\n",
       " 'time_next_update_unix': 1745712002,\n",
       " 'time_next_update_utc': 'Sun, 27 Apr 2025 00:00:02 +0000',\n",
       " 'base_code': 'USD',\n",
       " 'target_code': 'INR',\n",
       " 'conversion_rate': 85.4368}"
      ]
     },
     "execution_count": 14,
     "metadata": {},
     "output_type": "execute_result"
    }
   ],
   "source": [
    "get_conversion_factor.invoke({'base_currency':'USD', 'target_currency': 'INR'})"
   ]
  },
  {
   "cell_type": "code",
   "execution_count": 19,
   "id": "d6a9e9f5",
   "metadata": {},
   "outputs": [
    {
     "data": {
      "text/plain": [
       "854.368"
      ]
     },
     "execution_count": 19,
     "metadata": {},
     "output_type": "execute_result"
    }
   ],
   "source": [
    "convert.invoke({'base_currency_value': 10 ,'conversion_rate': 85.4368})"
   ]
  },
  {
   "cell_type": "code",
   "execution_count": 27,
   "id": "af6b04b8",
   "metadata": {},
   "outputs": [],
   "source": [
    "llm = ChatGoogleGenerativeAI(model='gemini-1.5-pro')\n",
    "llm_with_tools=llm.bind_tools([get_conversion_factor, convert])"
   ]
  },
  {
   "cell_type": "code",
   "execution_count": 36,
   "id": "cf224e0e",
   "metadata": {},
   "outputs": [
    {
     "data": {
      "text/plain": [
       "[HumanMessage(content='what is the conversion factor between USD and INR and based on that can you convert 10 USD to INR', additional_kwargs={}, response_metadata={}),\n",
       " AIMessage(content='', additional_kwargs={'function_call': {'name': 'convert', 'arguments': '{\"base_currency_value\": 10.0}'}}, response_metadata={'prompt_feedback': {'block_reason': 0, 'safety_ratings': []}, 'finish_reason': 'STOP', 'safety_ratings': []}, id='run-01edc138-2b55-4b27-8ae2-8657ba1d024d-0', tool_calls=[{'name': 'get_conversion_factor', 'args': {'target_currency': 'INR', 'base_currency': 'USD'}, 'id': '6442c295-6bf5-4df2-8a8b-645f73e9f10f', 'type': 'tool_call'}, {'name': 'convert', 'args': {'base_currency_value': 10.0}, 'id': '8b297b5c-e353-4c73-ac03-c154ec0502a9', 'type': 'tool_call'}], usage_metadata={'input_tokens': 84, 'output_tokens': 19, 'total_tokens': 103, 'input_token_details': {'cache_read': 0}})]"
      ]
     },
     "execution_count": 36,
     "metadata": {},
     "output_type": "execute_result"
    }
   ],
   "source": [
    "messages=[HumanMessage('what is the conversion factor between USD and INR and based on that can you convert 10 USD to INR')]\n",
    "ai_message=llm_with_tools.invoke(messages)\n",
    "messages.append(ai_message)\n",
    "messages"
   ]
  },
  {
   "cell_type": "code",
   "execution_count": null,
   "id": "5aaf5d62",
   "metadata": {},
   "outputs": [
    {
     "data": {
      "text/plain": [
       "[{'name': 'get_conversion_factor',\n",
       "  'args': {'target_currency': 'INR', 'base_currency': 'USD'},\n",
       "  'id': '6442c295-6bf5-4df2-8a8b-645f73e9f10f',\n",
       "  'type': 'tool_call'},\n",
       " {'name': 'convert',\n",
       "  'args': {'base_currency_value': 10.0},\n",
       "  'id': '8b297b5c-e353-4c73-ac03-c154ec0502a9',\n",
       "  'type': 'tool_call'}]"
      ]
     },
     "execution_count": 38,
     "metadata": {},
     "output_type": "execute_result"
    }
   ],
   "source": [
    "ai_message.tool_calls"
   ]
  },
  {
   "cell_type": "code",
   "execution_count": null,
   "id": "7e85e030",
   "metadata": {},
   "outputs": [
    {
     "name": "stdout",
     "output_type": "stream",
     "text": [
      "{'name': 'get_conversion_factor', 'args': {'target_currency': 'INR', 'base_currency': 'USD'}, 'id': '6442c295-6bf5-4df2-8a8b-645f73e9f10f', 'type': 'tool_call'}\n",
      "{'name': 'convert', 'args': {'base_currency_value': 10.0}, 'id': '8b297b5c-e353-4c73-ac03-c154ec0502a9', 'type': 'tool_call'}\n"
     ]
    }
   ],
   "source": [
    "for tool_call in ai_message.tool_calls:\n",
    "    print(tool_call)"
   ]
  },
  {
   "cell_type": "code",
   "execution_count": null,
   "id": "6019a045",
   "metadata": {},
   "outputs": [],
   "source": [
    "for tool_call in ai_message.tool_calls:\n",
    "    if tool_call['name']=='get_conversion_factor':\n",
    "        tool_message1 = get_conversion_factor.invoke(tool_call)\n",
    "        # print(tool_message1)\n",
    "        conversion_rate = json.loads(tool_message1.content)['conversion_rate']\n",
    "        messages.append(tool_message1)\n",
    "    \n",
    "    if tool_call['name'] == 'convert':\n",
    "        tool_call['args']['conversion_rate'] = conversion_rate\n",
    "        tool_message2 = convert.invoke(tool_call)\n",
    "        messages.append(tool_message2)\n",
    " "
   ]
  },
  {
   "cell_type": "code",
   "execution_count": 41,
   "id": "a6db807b",
   "metadata": {},
   "outputs": [
    {
     "data": {
      "text/plain": [
       "[HumanMessage(content='what is the conversion factor between USD and INR and based on that can you convert 10 USD to INR', additional_kwargs={}, response_metadata={}),\n",
       " AIMessage(content='', additional_kwargs={'function_call': {'name': 'convert', 'arguments': '{\"base_currency_value\": 10.0}'}}, response_metadata={'prompt_feedback': {'block_reason': 0, 'safety_ratings': []}, 'finish_reason': 'STOP', 'safety_ratings': []}, id='run-01edc138-2b55-4b27-8ae2-8657ba1d024d-0', tool_calls=[{'name': 'get_conversion_factor', 'args': {'target_currency': 'INR', 'base_currency': 'USD'}, 'id': '6442c295-6bf5-4df2-8a8b-645f73e9f10f', 'type': 'tool_call'}, {'name': 'convert', 'args': {'base_currency_value': 10.0, 'conversion_rate': 85.4368}, 'id': '8b297b5c-e353-4c73-ac03-c154ec0502a9', 'type': 'tool_call'}], usage_metadata={'input_tokens': 84, 'output_tokens': 19, 'total_tokens': 103, 'input_token_details': {'cache_read': 0}}),\n",
       " ToolMessage(content='{\"result\": \"success\", \"documentation\": \"https://www.exchangerate-api.com/docs\", \"terms_of_use\": \"https://www.exchangerate-api.com/terms\", \"time_last_update_unix\": 1745625602, \"time_last_update_utc\": \"Sat, 26 Apr 2025 00:00:02 +0000\", \"time_next_update_unix\": 1745712002, \"time_next_update_utc\": \"Sun, 27 Apr 2025 00:00:02 +0000\", \"base_code\": \"USD\", \"target_code\": \"INR\", \"conversion_rate\": 85.4368}', name='get_conversion_factor', tool_call_id='6442c295-6bf5-4df2-8a8b-645f73e9f10f'),\n",
       " ToolMessage(content='854.368', name='convert', tool_call_id='8b297b5c-e353-4c73-ac03-c154ec0502a9')]"
      ]
     },
     "execution_count": 41,
     "metadata": {},
     "output_type": "execute_result"
    }
   ],
   "source": [
    "messages"
   ]
  },
  {
   "cell_type": "code",
   "execution_count": 42,
   "id": "81937ef7",
   "metadata": {},
   "outputs": [
    {
     "data": {
      "text/plain": [
       "[HumanMessage(content='what is the conversion factor between USD and INR and based on that can you convert 10 USD to INR', additional_kwargs={}, response_metadata={}),\n",
       " AIMessage(content='', additional_kwargs={'function_call': {'name': 'convert', 'arguments': '{\"base_currency_value\": 10.0}'}}, response_metadata={'prompt_feedback': {'block_reason': 0, 'safety_ratings': []}, 'finish_reason': 'STOP', 'safety_ratings': []}, id='run-01edc138-2b55-4b27-8ae2-8657ba1d024d-0', tool_calls=[{'name': 'get_conversion_factor', 'args': {'target_currency': 'INR', 'base_currency': 'USD'}, 'id': '6442c295-6bf5-4df2-8a8b-645f73e9f10f', 'type': 'tool_call'}, {'name': 'convert', 'args': {'base_currency_value': 10.0, 'conversion_rate': 85.4368}, 'id': '8b297b5c-e353-4c73-ac03-c154ec0502a9', 'type': 'tool_call'}], usage_metadata={'input_tokens': 84, 'output_tokens': 19, 'total_tokens': 103, 'input_token_details': {'cache_read': 0}}),\n",
       " ToolMessage(content='{\"result\": \"success\", \"documentation\": \"https://www.exchangerate-api.com/docs\", \"terms_of_use\": \"https://www.exchangerate-api.com/terms\", \"time_last_update_unix\": 1745625602, \"time_last_update_utc\": \"Sat, 26 Apr 2025 00:00:02 +0000\", \"time_next_update_unix\": 1745712002, \"time_next_update_utc\": \"Sun, 27 Apr 2025 00:00:02 +0000\", \"base_code\": \"USD\", \"target_code\": \"INR\", \"conversion_rate\": 85.4368}', name='get_conversion_factor', tool_call_id='6442c295-6bf5-4df2-8a8b-645f73e9f10f'),\n",
       " ToolMessage(content='854.368', name='convert', tool_call_id='8b297b5c-e353-4c73-ac03-c154ec0502a9'),\n",
       " AIMessage(content='The conversion factor between USD and INR is 85.4368. So, 10 USD is equivalent to 854.368 INR.', additional_kwargs={}, response_metadata={'prompt_feedback': {'block_reason': 0, 'safety_ratings': []}, 'finish_reason': 'STOP', 'safety_ratings': []}, id='run-374c6324-cb8e-44fb-baa7-97e47a973b9e-0', usage_metadata={'input_tokens': 236, 'output_tokens': 37, 'total_tokens': 273, 'input_token_details': {'cache_read': 0}})]"
      ]
     },
     "execution_count": 42,
     "metadata": {},
     "output_type": "execute_result"
    }
   ],
   "source": [
    "messages.append(llm_with_tools.invoke(messages))\n",
    "messages"
   ]
  },
  {
   "cell_type": "code",
   "execution_count": 53,
   "id": "7a175712",
   "metadata": {},
   "outputs": [
    {
     "data": {
      "text/plain": [
       "'The conversion factor between USD and INR is 85.4368. So, 10 USD is equivalent to 854.368 INR.'"
      ]
     },
     "execution_count": 53,
     "metadata": {},
     "output_type": "execute_result"
    }
   ],
   "source": [
    "messages[-1].content"
   ]
  }
 ],
 "metadata": {
  "kernelspec": {
   "display_name": "env",
   "language": "python",
   "name": "python3"
  },
  "language_info": {
   "codemirror_mode": {
    "name": "ipython",
    "version": 3
   },
   "file_extension": ".py",
   "mimetype": "text/x-python",
   "name": "python",
   "nbconvert_exporter": "python",
   "pygments_lexer": "ipython3",
   "version": "3.11.0"
  }
 },
 "nbformat": 4,
 "nbformat_minor": 5
}
