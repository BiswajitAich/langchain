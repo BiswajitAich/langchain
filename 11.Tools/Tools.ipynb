{
 "cells": [
  {
   "cell_type": "markdown",
   "id": "95b893cd",
   "metadata": {},
   "source": [
    "Link for Tools [https://python.langchain.com/docs/integrations/tools/]"
   ]
  },
  {
   "cell_type": "markdown",
   "id": "ea8606d9",
   "metadata": {},
   "source": [
    "# DuckDuckGo Search"
   ]
  },
  {
   "cell_type": "code",
   "execution_count": 3,
   "id": "b03b14ac",
   "metadata": {},
   "outputs": [
    {
     "name": "stdout",
     "output_type": "stream",
     "text": [
      "The White House, official residence of the president of the United States. The president of the United States is the head of state and head of government of the United States, [1] indirectly elected to a four-year term via the Electoral College. [2] Under the U.S. Constitution, the officeholder leads the executive branch of the federal government and is the commander-in-chief of the United ... Obama's father, Barack Obama, Sr., was a teenage goatherd in rural Kenya, won a scholarship to study in the United States, and eventually became a senior economist in the Kenyan government.Obama's mother, S. Ann Dunham, grew up in Kansas, Texas, and Washington state before her family settled in Honolulu.In 1960 she and Barack Sr. met in a Russian language class at the University of Hawaii ... The Irish Sun, It's a fake Barack Obama's brother posts forged document he claims is ex-president's 'Kenyan birth certificate,' March 11, 2017 Salon, Orly Taitz is at it again , Sept. 4, 2009 President John F. Kennedy, codename \"Lancer\" with First Lady Jacqueline Kennedy, codename \"Lace\". The United States Secret Service uses code names for U.S. presidents, first ladies, and other prominent persons and locations. [1] The use of such names was originally for security purposes and dates to a time when sensitive electronic communications were not routinely encrypted; today, the names ... About. Obama's Last Name refers to a misconception held by certain individuals that former United States president Barack Obama's first name is Obama and not Barack. Starting in mid-2019, memes speculating on what Obama's last name could be and imagining it being a well-guarded secret gained significant popularity in meme communities.\n"
     ]
    }
   ],
   "source": [
    "from langchain_community.tools import DuckDuckGoSearchRun\n",
    "\n",
    "search = DuckDuckGoSearchRun()\n",
    "\n",
    "results = search.invoke(\"Obama's first name?\")\n",
    "\n",
    "print(results)"
   ]
  },
  {
   "cell_type": "markdown",
   "id": "c9845038",
   "metadata": {},
   "source": [
    "# Shell (bash)"
   ]
  },
  {
   "cell_type": "code",
   "execution_count": null,
   "id": "2d81b796",
   "metadata": {},
   "outputs": [],
   "source": [
    "from langchain_community.tools import ShellTool\n",
    "\n",
    "shell_tool = ShellTool()\n",
    "\n",
    "results = shell_tool.invoke('dir')\n",
    "\n",
    "print(results)"
   ]
  },
  {
   "cell_type": "markdown",
   "id": "e1335017",
   "metadata": {},
   "source": [
    "# Custom Tools"
   ]
  },
  {
   "cell_type": "markdown",
   "id": "8ca13259",
   "metadata": {},
   "source": [
    "## 1. @tool"
   ]
  },
  {
   "cell_type": "code",
   "execution_count": 44,
   "id": "24dac7a5",
   "metadata": {},
   "outputs": [],
   "source": [
    "from langchain_community.tools import tool"
   ]
  },
  {
   "cell_type": "code",
   "execution_count": 45,
   "id": "4211af30",
   "metadata": {},
   "outputs": [],
   "source": [
    "@tool\n",
    "def multiply(a: int, b: int) -> int:\n",
    "    \"\"\"Multiply the numbers a and b and return the result\"\"\"\n",
    "    return a * b"
   ]
  },
  {
   "cell_type": "code",
   "execution_count": 46,
   "id": "168efa2a",
   "metadata": {},
   "outputs": [],
   "source": [
    "@tool\n",
    "def addition(a: int, b: int) -> int:\n",
    "    \"\"\"add the numbers a and b and return the result\"\"\"\n",
    "    return a + b"
   ]
  },
  {
   "cell_type": "code",
   "execution_count": 47,
   "id": "f847958e",
   "metadata": {},
   "outputs": [],
   "source": [
    "class MathToolKit:\n",
    "    def get_tools(self):\n",
    "        return [addition, multiply]"
   ]
  },
  {
   "cell_type": "code",
   "execution_count": 49,
   "id": "0e452f23",
   "metadata": {},
   "outputs": [
    {
     "name": "stdout",
     "output_type": "stream",
     "text": [
      "result:  20\n",
      "name:  addition\n",
      "description:  add the numbers a and b and return the result\n",
      "args:  {'a': {'title': 'A', 'type': 'integer'}, 'b': {'title': 'B', 'type': 'integer'}}\n",
      "\n",
      "\n",
      "result:  100\n",
      "name:  multiply\n",
      "description:  Multiply the numbers a and b and return the result\n",
      "args:  {'a': {'title': 'A', 'type': 'integer'}, 'b': {'title': 'B', 'type': 'integer'}}\n",
      "\n",
      "\n"
     ]
    }
   ],
   "source": [
    "toolkit = MathToolKit()\n",
    "tools= toolkit.get_tools()\n",
    "for tool in tools:\n",
    "    result = tool.invoke({\"a\": 10, \"b\": 10})\n",
    "    print(\"result: \",result)\n",
    "    print(\"name: \",tool.name)\n",
    "    print(\"description: \",tool.description)\n",
    "    print(\"args: \",tool.args)\n",
    "    print(\"\\n\")"
   ]
  },
  {
   "cell_type": "code",
   "execution_count": null,
   "id": "d89e79f6",
   "metadata": {},
   "outputs": [
    {
     "name": "stdout",
     "output_type": "stream",
     "text": [
      "multiply\n",
      "Multiply the numbers a and b and return the result\n",
      "{'a': {'title': 'A', 'type': 'integer'}, 'b': {'title': 'B', 'type': 'integer'}}\n"
     ]
    },
    {
     "data": {
      "text/plain": [
       "{'description': 'Multiply the numbers a and b and return the result',\n",
       " 'properties': {'a': {'title': 'A', 'type': 'integer'},\n",
       "  'b': {'title': 'B', 'type': 'integer'}},\n",
       " 'required': ['a', 'b'],\n",
       " 'title': 'multiply',\n",
       " 'type': 'object'}"
      ]
     },
     "execution_count": 19,
     "metadata": {},
     "output_type": "execute_result"
    }
   ],
   "source": [
    "print(multiply.name)\n",
    "print(multiply.description)\n",
    "print(multiply.args)\n",
    "multiply.args_schema.model_json_schema()"
   ]
  },
  {
   "cell_type": "markdown",
   "id": "f071d1ff",
   "metadata": {},
   "source": [
    "## 2. Structured tool & pydantic"
   ]
  },
  {
   "cell_type": "code",
   "execution_count": 20,
   "id": "b1360b1e",
   "metadata": {},
   "outputs": [],
   "source": [
    "from langchain_community.tools import StructuredTool\n",
    "from pydantic import BaseModel, Field"
   ]
  },
  {
   "cell_type": "code",
   "execution_count": 21,
   "id": "31b7463b",
   "metadata": {},
   "outputs": [],
   "source": [
    "class MultiplyInput(BaseModel):\n",
    "    a: int = Field(required=True, description=\"First number \")\n",
    "    b: int = Field(required=True, description=\"Second number \")"
   ]
  },
  {
   "cell_type": "code",
   "execution_count": 22,
   "id": "13d2b058",
   "metadata": {},
   "outputs": [],
   "source": [
    "def multiply(a: int, b: int) -> int:\n",
    "    return a * b"
   ]
  },
  {
   "cell_type": "code",
   "execution_count": 23,
   "id": "21a67678",
   "metadata": {},
   "outputs": [],
   "source": [
    "multiply_tool = StructuredTool.from_function(\n",
    "    func=multiply,\n",
    "    name=\"multiply\",\n",
    "    description=\"multiply two number\",\n",
    "    args_schema=MultiplyInput\n",
    ")"
   ]
  },
  {
   "cell_type": "code",
   "execution_count": 25,
   "id": "a35d00de",
   "metadata": {},
   "outputs": [
    {
     "name": "stdout",
     "output_type": "stream",
     "text": [
      "50\n",
      "multiply\n",
      "multiply two number\n",
      "{'a': {'description': 'First number ', 'required': True, 'title': 'A', 'type': 'integer'}, 'b': {'description': 'Second number ', 'required': True, 'title': 'B', 'type': 'integer'}}\n"
     ]
    },
    {
     "data": {
      "text/plain": [
       "{'properties': {'a': {'description': 'First number ',\n",
       "   'required': True,\n",
       "   'title': 'A',\n",
       "   'type': 'integer'},\n",
       "  'b': {'description': 'Second number ',\n",
       "   'required': True,\n",
       "   'title': 'B',\n",
       "   'type': 'integer'}},\n",
       " 'required': ['a', 'b'],\n",
       " 'title': 'MultiplyInput',\n",
       " 'type': 'object'}"
      ]
     },
     "execution_count": 25,
     "metadata": {},
     "output_type": "execute_result"
    }
   ],
   "source": [
    "result = multiply_tool.invoke({\"a\":5, \"b\":10})\n",
    "print(result)\n",
    "print(multiply_tool.name)\n",
    "print(multiply_tool.description)\n",
    "print(multiply_tool.args)\n",
    "multiply_tool.args_schema.model_json_schema()"
   ]
  },
  {
   "cell_type": "markdown",
   "id": "d37545dc",
   "metadata": {},
   "source": [
    "## 3. BaseTool Class"
   ]
  },
  {
   "cell_type": "code",
   "execution_count": 26,
   "id": "0615eb48",
   "metadata": {},
   "outputs": [],
   "source": [
    "from langchain.tools import BaseTool\n",
    "from typing import Type"
   ]
  },
  {
   "cell_type": "code",
   "execution_count": 27,
   "id": "e7f2775b",
   "metadata": {},
   "outputs": [],
   "source": [
    "class MultiplyInput(BaseModel):\n",
    "    a: int = Field(required=True, description=\"First number \")\n",
    "    b: int = Field(required=True, description=\"Second number \")"
   ]
  },
  {
   "cell_type": "code",
   "execution_count": 28,
   "id": "7c4df7cc",
   "metadata": {},
   "outputs": [],
   "source": [
    "class MultiplyTool(BaseTool):\n",
    "    name: str = \"multiply\"\n",
    "    description: str = \"multiply two numbers\"\n",
    "    args_schema: Type[BaseModel] = MultiplyInput\n",
    "\n",
    "    def _run(self, a: int, b: int):\n",
    "        return a*b"
   ]
  },
  {
   "cell_type": "code",
   "execution_count": 29,
   "id": "4bd358d3",
   "metadata": {},
   "outputs": [
    {
     "name": "stdout",
     "output_type": "stream",
     "text": [
      "64\n",
      "multiply\n",
      "multiply two numbers\n",
      "{'a': {'description': 'First number ', 'required': True, 'title': 'A', 'type': 'integer'}, 'b': {'description': 'Second number ', 'required': True, 'title': 'B', 'type': 'integer'}}\n"
     ]
    },
    {
     "data": {
      "text/plain": [
       "{'properties': {'a': {'description': 'First number ',\n",
       "   'required': True,\n",
       "   'title': 'A',\n",
       "   'type': 'integer'},\n",
       "  'b': {'description': 'Second number ',\n",
       "   'required': True,\n",
       "   'title': 'B',\n",
       "   'type': 'integer'}},\n",
       " 'required': ['a', 'b'],\n",
       " 'title': 'MultiplyInput',\n",
       " 'type': 'object'}"
      ]
     },
     "execution_count": 29,
     "metadata": {},
     "output_type": "execute_result"
    }
   ],
   "source": [
    "multiply_tool = MultiplyTool()\n",
    "result = multiply_tool.invoke({\"a\": 8, \"b\": 8})\n",
    "print(result)\n",
    "print(multiply_tool.name)\n",
    "print(multiply_tool.description)\n",
    "print(multiply_tool.args)\n",
    "multiply_tool.args_schema.model_json_schema()"
   ]
  }
 ],
 "metadata": {
  "kernelspec": {
   "display_name": "env",
   "language": "python",
   "name": "python3"
  },
  "language_info": {
   "codemirror_mode": {
    "name": "ipython",
    "version": 3
   },
   "file_extension": ".py",
   "mimetype": "text/x-python",
   "name": "python",
   "nbconvert_exporter": "python",
   "pygments_lexer": "ipython3",
   "version": "3.11.0"
  }
 },
 "nbformat": 4,
 "nbformat_minor": 5
}
