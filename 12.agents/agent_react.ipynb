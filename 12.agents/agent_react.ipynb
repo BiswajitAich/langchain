{
 "cells": [
  {
   "cell_type": "code",
   "execution_count": 16,
   "id": "3e7dc8a8",
   "metadata": {},
   "outputs": [
    {
     "data": {
      "text/plain": [
       "True"
      ]
     },
     "execution_count": 16,
     "metadata": {},
     "output_type": "execute_result"
    }
   ],
   "source": [
    "from langchain_core.tools import tool\n",
    "import requests\n",
    "import os\n",
    "from dotenv import load_dotenv\n",
    "load_dotenv()"
   ]
  },
  {
   "cell_type": "markdown",
   "id": "cd2063c7",
   "metadata": {},
   "source": [
    "## Create Search Tool"
   ]
  },
  {
   "cell_type": "code",
   "execution_count": 8,
   "id": "5de37606",
   "metadata": {},
   "outputs": [
    {
     "data": {
      "text/plain": [
       "'Artificial Intelligence: Read latest updates on AI like Google AI, ChatGPT, Google Lamda, Bard chatbot and more along with latest news as AI technology advances and makes new progress. All get detailed articles on AI related queries like what is AI, types of artificial intelligence, its applications and future. Stay informed with our daily curated artificial intelligence news and insights. We bring you the most important updates in AI, machine learning, and emerging technologies. ... Today. Duolingo\\'s AI Takeover: A Double-Edged Sword. April 30, 2025 ... In a tech twist, AI-powered cheating app Cluely is now under scrutiny as startups like Validia and ... Reuters provides business, financial, national and international news to professionals via desktop terminals, the world\\'s media organizations, industry events and directly to consumers. Follow Us X Top 10 AI News Stories You Don\\'t Want to Miss 1. OpenAI Launches Operator. Earlier today, we reported on OpenAI\\'s rollout of Operator, an AI agent that handles tasks directly on the web. Currently available as a \"research preview\" for ChatGPT Pro users in the United States, Operator is designed to perform actions on websites, such as ... TECH NEWS : Mark Zuckerberg predicts AI will write most of Meta\\'s Llama project code within 12-18 months, surpassing the capabilities of average skilled coders. M'"
      ]
     },
     "execution_count": 8,
     "metadata": {},
     "output_type": "execute_result"
    }
   ],
   "source": [
    "from langchain_community.tools import DuckDuckGoSearchRun\n",
    "search_tool = DuckDuckGoSearchRun()\n",
    "search_tool.invoke(\"todays trending tech news on ai\")"
   ]
  },
  {
   "cell_type": "code",
   "execution_count": 17,
   "id": "162c3ee4",
   "metadata": {},
   "outputs": [],
   "source": [
    "WEATHERSTACK_API_KEY=os.getenv(\"WEATHERSTACK_API_KEY\")\n",
    "@tool\n",
    "def get_weather_data(city: str)->str:\n",
    "    \"\"\"\n",
    "        This function fetches the current weather data for a given city\n",
    "    \"\"\"\n",
    "    url = f\"https://api.weatherstack.com/current?access_key={WEATHERSTACK_API_KEY}&query={city}\"\n",
    "    response = requests.get(url=url)\n",
    "    return response.json()"
   ]
  },
  {
   "cell_type": "markdown",
   "id": "f570ee44",
   "metadata": {},
   "source": [
    "## Create LLM"
   ]
  },
  {
   "cell_type": "code",
   "execution_count": 9,
   "id": "a612a70e",
   "metadata": {},
   "outputs": [
    {
     "data": {
      "text/plain": [
       "AIMessage(content='There\\'s no single \"best\" AI model build. The ideal model depends heavily on the specific task, the available data, and the desired performance characteristics.  It\\'s like asking for the \"best\" vehicle – a sports car is great for speed, but a truck is better for hauling cargo.\\n\\nHere\\'s a breakdown of factors to consider and some popular model architectures:\\n\\n**Factors to Consider:**\\n\\n* **Task:** What do you want the model to do?  Image classification? Text generation? Machine translation?  Different tasks require different architectures.\\n* **Data:** How much data do you have?  Is it labeled or unlabeled?  The amount and quality of data significantly impact model choice and performance.  Large language models, for example, thrive on massive datasets.\\n* **Performance Metrics:** What matters most? Accuracy? Speed?  Explainability?  Some models are more accurate but slower, while others prioritize efficiency.\\n* **Computational Resources:**  Training large models requires significant computing power.  Choose a model that\\'s feasible given your resources.\\n* **Explainability:**  Do you need to understand how the model arrives at its decisions?  Some models are more interpretable than others.\\n\\n**Popular Model Architectures (and their common uses):**\\n\\n* **Transformers:** Excellent for natural language processing tasks like translation, text generation (e.g., GPT-3, BERT, LaMDA). They handle long-range dependencies in text effectively.\\n* **Convolutional Neural Networks (CNNs):** Primarily used for image and video processing tasks like image classification, object detection (e.g., ResNet, Inception).  They excel at identifying patterns in visual data.\\n* **Recurrent Neural Networks (RNNs):** Designed for sequential data like time series and text.  LSTMs and GRUs are common RNN variants that address vanishing gradient problems.  Often used for tasks like sentiment analysis and speech recognition.\\n* **Generative Adversarial Networks (GANs):** Used for generating new data instances that resemble the training data.  Applications include image generation, video generation, and drug discovery.\\n* **Decision Trees and Random Forests:**  Good for classification and regression tasks.  They are relatively easy to understand and interpret.\\n* **Support Vector Machines (SVMs):** Effective for classification and regression, especially in high-dimensional spaces.\\n\\n**In summary:**\\n\\nInstead of searching for the \"best,\" focus on finding the *right* model for your specific needs.  Experimentation and evaluation are crucial to determining the optimal architecture and hyperparameters.  Keep up-to-date with the latest research, as the field of AI is constantly evolving.', additional_kwargs={}, response_metadata={'prompt_feedback': {'block_reason': 0, 'safety_ratings': []}, 'finish_reason': 'STOP', 'safety_ratings': []}, id='run-105386c1-45f3-4a75-a287-0aaa02a6d405-0', usage_metadata={'input_tokens': 8, 'output_tokens': 555, 'total_tokens': 563, 'input_token_details': {'cache_read': 0}})"
      ]
     },
     "execution_count": 9,
     "metadata": {},
     "output_type": "execute_result"
    }
   ],
   "source": [
    "from langchain_google_genai import ChatGoogleGenerativeAI\n",
    "llm = ChatGoogleGenerativeAI(model=\"gemini-1.5-pro\")\n",
    "llm.invoke(\"which is the best ai model build ?\")"
   ]
  },
  {
   "cell_type": "markdown",
   "id": "37d68866",
   "metadata": {},
   "source": [
    "## React Agent"
   ]
  },
  {
   "cell_type": "code",
   "execution_count": 10,
   "id": "d74314ec",
   "metadata": {},
   "outputs": [],
   "source": [
    "from langchain.agents import create_react_agent, AgentExecutor\n",
    "from langchain import hub"
   ]
  },
  {
   "cell_type": "markdown",
   "id": "ba97bea5",
   "metadata": {},
   "source": [
    "### 1. React prompt from langchain hub [link-> https://smith.langchain.com/hub ]"
   ]
  },
  {
   "cell_type": "code",
   "execution_count": 11,
   "id": "554b418f",
   "metadata": {},
   "outputs": [
    {
     "name": "stderr",
     "output_type": "stream",
     "text": [
      "c:\\Users\\Biswajit Aich\\Desktop\\langchain\\env\\Lib\\site-packages\\langsmith\\client.py:277: LangSmithMissingAPIKeyWarning: API key must be provided when using hosted LangSmith API\n",
      "  warnings.warn(\n"
     ]
    }
   ],
   "source": [
    "prompt = hub.pull(\"hwchase17/react\")"
   ]
  },
  {
   "cell_type": "markdown",
   "id": "8f8a7ae2",
   "metadata": {},
   "source": [
    "### 2. Build agent"
   ]
  },
  {
   "cell_type": "code",
   "execution_count": 18,
   "id": "def90bcb",
   "metadata": {},
   "outputs": [],
   "source": [
    "agent = create_react_agent(\n",
    "    llm=llm,\n",
    "    tools=[search_tool, get_weather_data],\n",
    "    prompt=prompt\n",
    ")"
   ]
  },
  {
   "cell_type": "markdown",
   "id": "89607a7a",
   "metadata": {},
   "source": [
    "### 3. Wrap with AgentExecutor"
   ]
  },
  {
   "cell_type": "code",
   "execution_count": 19,
   "id": "61af16fc",
   "metadata": {},
   "outputs": [],
   "source": [
    "agent_executer = AgentExecutor(\n",
    "    agent=agent,\n",
    "    tools=[search_tool, get_weather_data],\n",
    "    verbose=True\n",
    ")"
   ]
  },
  {
   "cell_type": "markdown",
   "id": "421ffe55",
   "metadata": {},
   "source": [
    "### 4. invoke"
   ]
  },
  {
   "cell_type": "code",
   "execution_count": 23,
   "id": "09e4a198",
   "metadata": {},
   "outputs": [
    {
     "name": "stdout",
     "output_type": "stream",
     "text": [
      "\n",
      "\n",
      "\u001b[1m> Entering new AgentExecutor chain...\u001b[0m\n",
      "\u001b[32;1m\u001b[1;3mThought: I need to first find the capital of West Bengal and then use the get_weather_data tool to find its current weather.\n",
      "\n",
      "Action: duckduckgo_search\n",
      "Action Input: capital of west bengal\u001b[0m\u001b[36;1m\u001b[1;3mKolkata, city, capital of West Bengal state, and former capital (1772-1911) of British India.It is one of India's largest cities and one of its major ports. The city is centred on the east bank of the Hugli (Hooghly) River, once the main channel of the Ganges (Ganga) River, about 96 miles (154 km) upstream from the head of the Bay of Bengal; there the port city developed as a point of ... West Bengal, Indian state located in the eastern part of the country. It has a peculiar configuration; its breadth varies from 200 miles at one point to hardly 10 miles at another. Although in area West Bengal ranks as one of the smaller states in India, it is one of the largest in population. The capital is Kolkata. Kolkata - Indian City, West Bengal, Cultural Hub: In 1947 the partition of Bengal between newly independent India and Pakistan constituted a serious setback for Calcutta, which became the capital of West Bengal only, losing the trade of a part of its former hinterland. At the same time, millions of refugees from the eastern portion of Bengal—which had become East Pakistan (now Bangladesh ... Kolkata: The Capital of West Bengal on the Banks of the Hooghly. The answer to the question, \"Which city is situated on the bank of a river which is tributary of the Ganga river and is the capital of West Bengal?\" is Kolkata.This vibrant metropolis, a hub of culture, commerce, and history, sits proudly on the eastern bank of the Hooghly River, a crucial distributary of the mighty Ganga. West Bengal is a state located in the eastern part of India, along the coast of the Bay of Bengal.It covers an area of 88,752 square kilometers and had a population of approximately 103 million in 2023. The capital city, Kolkata, is often regarded as the cultural capital of India. The geography of West Bengal is diverse, ranging from the Himalayan mountain range in the north to the vast ...\u001b[0m\u001b[32;1m\u001b[1;3mThought: The capital of West Bengal is Kolkata. Now I need to find the weather in Kolkata.\n",
      "\n",
      "Action: get_weather_data\n",
      "Action Input: Kolkata\u001b[0m\u001b[33;1m\u001b[1;3m{'request': {'type': 'City', 'query': 'Kolkata, India', 'language': 'en', 'unit': 'm'}, 'location': {'name': 'Kolkata', 'country': 'India', 'region': 'West Bengal', 'lat': '22.570', 'lon': '88.370', 'timezone_id': 'Asia/Kolkata', 'localtime': '2025-05-02 03:25', 'localtime_epoch': 1746156300, 'utc_offset': '5.50'}, 'current': {'observation_time': '09:55 PM', 'temperature': 22, 'weather_code': 143, 'weather_icons': ['https://cdn.worldweatheronline.com/images/wsymbols01_png_64/wsymbol_0006_mist.png'], 'weather_descriptions': ['Haze'], 'astro': {'sunrise': '05:04 AM', 'sunset': '06:04 PM', 'moonrise': '08:58 AM', 'moonset': '11:10 PM', 'moon_phase': 'Waxing Crescent', 'moon_illumination': 24}, 'air_quality': {'co': '1028.6', 'no2': '54.205', 'o3': '27', 'so2': '35.52', 'pm2_5': '96.94', 'pm10': '105.08', 'us-epa-index': '4', 'gb-defra-index': '4'}, 'wind_speed': 5, 'wind_degree': 218, 'wind_dir': 'SW', 'pressure': 1009, 'precip': 0, 'humidity': 88, 'cloudcover': 75, 'feelslike': 25, 'uv_index': 0, 'visibility': 3, 'is_day': 'no'}}\u001b[0m\u001b[32;1m\u001b[1;3mThought: I now have the weather information for Kolkata.\n",
      "Final Answer: The capital of West Bengal is Kolkata. The current weather in Kolkata is hazy with a temperature of 22°C.  The humidity is 88%, wind speed is 5 km/h SW, and cloud cover is 75%.\u001b[0m\n",
      "\n",
      "\u001b[1m> Finished chain.\u001b[0m\n"
     ]
    },
    {
     "data": {
      "text/plain": [
       "{'input': 'find the capital of west bengal, then find its current weather condition',\n",
       " 'output': 'The capital of West Bengal is Kolkata. The current weather in Kolkata is hazy with a temperature of 22°C.  The humidity is 88%, wind speed is 5 km/h SW, and cloud cover is 75%.'}"
      ]
     },
     "execution_count": 23,
     "metadata": {},
     "output_type": "execute_result"
    }
   ],
   "source": [
    "response = agent_executer.invoke({\"input\": \"find the capital of west bengal, then find its current weather condition\"})\n",
    "response"
   ]
  },
  {
   "cell_type": "code",
   "execution_count": 24,
   "id": "a0033e53",
   "metadata": {},
   "outputs": [
    {
     "data": {
      "text/plain": [
       "'The capital of West Bengal is Kolkata. The current weather in Kolkata is hazy with a temperature of 22°C.  The humidity is 88%, wind speed is 5 km/h SW, and cloud cover is 75%.'"
      ]
     },
     "execution_count": 24,
     "metadata": {},
     "output_type": "execute_result"
    }
   ],
   "source": [
    "response[\"output\"]"
   ]
  }
 ],
 "metadata": {
  "kernelspec": {
   "display_name": "env",
   "language": "python",
   "name": "python3"
  },
  "language_info": {
   "codemirror_mode": {
    "name": "ipython",
    "version": 3
   },
   "file_extension": ".py",
   "mimetype": "text/x-python",
   "name": "python",
   "nbconvert_exporter": "python",
   "pygments_lexer": "ipython3",
   "version": "3.11.0"
  }
 },
 "nbformat": 4,
 "nbformat_minor": 5
}
