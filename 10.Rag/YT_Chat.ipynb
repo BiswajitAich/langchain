{
 "cells": [
  {
   "cell_type": "markdown",
   "id": "07e8d273",
   "metadata": {},
   "source": [
    "# Install requirements"
   ]
  },
  {
   "cell_type": "code",
   "execution_count": null,
   "id": "337a7b31",
   "metadata": {},
   "outputs": [
    {
     "data": {
      "text/plain": [
       "True"
      ]
     },
     "execution_count": 1,
     "metadata": {},
     "output_type": "execute_result"
    }
   ],
   "source": [
    "from youtube_transcript_api import YouTubeTranscriptApi, TranscriptsDisabled\n",
    "from langchain.text_splitter import RecursiveCharacterTextSplitter\n",
    "from langchain_google_genai import ChatGoogleGenerativeAI\n",
    "from langchain_huggingface import HuggingFaceEmbeddings\n",
    "from langchain_core.prompts import PromptTemplate\n",
    "from langchain_community.vectorstores import FAISS\n",
    "from dotenv import load_dotenv\n",
    "load_dotenv()"
   ]
  },
  {
   "cell_type": "code",
   "execution_count": 4,
   "id": "3dad5434",
   "metadata": {},
   "outputs": [
    {
     "name": "stdout",
     "output_type": "stream",
     "text": [
      "[Music] I've been staying inside too much lately probably contributes to my anxiety doctor says I need to get more vitamin D so I take a supplement two times a week if you got inside my head you see there's no point in going to therapy at least that's what I tell myself cuz I don't need another purchase added to my monthly Fe I'm doing fine all right okay Sun keeps coming up each day see it do M no Shades it's all right just passing time I watch it fake can't do too much anyways in this small town it way I'm doing fun I swear I'm doing am I really fine or am I just really good at ly I don't really know lately I've been on autopilot in my mind keeps me awake every single night I stay up late I don't know how to sleep when I'm overthinking every little thing but I'm taking my pills and I'm paying my bills so I do I still feel the same guess I play this guitar hoping that tomorrow I can say that I'm doing fine all right okay Sun keeps coming up each day see it through M no it's allor right just passing time I'll watch it fake can't do too much anyways in this small town it away I'm doing fun\n"
     ]
    }
   ],
   "source": [
    "video_id=\"M2UXb_bxQ2U\"\n",
    "try:\n",
    "    transcript_list=YouTubeTranscriptApi.get_transcript(video_id=video_id, languages=[\"en\"])\n",
    "    transcript=\" \".join(chunk[\"text\"] for chunk in transcript_list)\n",
    "    print(transcript)\n",
    "except TranscriptsDisabled:\n",
    "    print(\"no caption available\")"
   ]
  },
  {
   "cell_type": "markdown",
   "id": "52baabcf",
   "metadata": {},
   "source": [
    "# Indexing (Text Splitting)"
   ]
  },
  {
   "cell_type": "code",
   "execution_count": null,
   "id": "834f1654",
   "metadata": {},
   "outputs": [],
   "source": [
    "splitter=RecursiveCharacterTextSplitter(chunk_size=100, chunk_overlap=20)\n",
    "chunks=splitter.create_documents([transcript])\n",
    "len(chunks)"
   ]
  },
  {
   "cell_type": "code",
   "execution_count": 6,
   "id": "9bd86cb7",
   "metadata": {},
   "outputs": [
    {
     "data": {
      "text/plain": [
       "[Document(metadata={}, page_content=\"[Music] I've been staying inside too much lately probably contributes to my anxiety doctor says I\"),\n",
       " Document(metadata={}, page_content='doctor says I need to get more vitamin D so I take a supplement two times a week if you got inside'),\n",
       " Document(metadata={}, page_content=\"if you got inside my head you see there's no point in going to therapy at least that's what I tell\")]"
      ]
     },
     "execution_count": 6,
     "metadata": {},
     "output_type": "execute_result"
    }
   ],
   "source": [
    "chunks[0:3]"
   ]
  },
  {
   "cell_type": "code",
   "execution_count": 11,
   "id": "ccb9d2e8",
   "metadata": {},
   "outputs": [],
   "source": [
    "embedding=HuggingFaceEmbeddings(model_name=\"sentence-transformers/paraphrase-MiniLM-L3-v2\")\n",
    "vector_store=FAISS.from_documents(chunks, embedding=embedding)"
   ]
  },
  {
   "cell_type": "code",
   "execution_count": 15,
   "id": "5d2dc795",
   "metadata": {},
   "outputs": [
    {
     "data": {
      "text/plain": [
       "{0: '5ba5171c-d930-47cb-ba73-e643e0a1c0e2',\n",
       " 1: '3100bf45-9f84-4b99-a007-16c968accc84',\n",
       " 2: '3602151a-e88a-4bb8-87ad-10503e1c15ad',\n",
       " 3: '77a21914-0c01-4b52-8b24-4ae01e728789',\n",
       " 4: '220f0608-b12f-4690-9b6d-9780a6760d18',\n",
       " 5: 'ac66b9ae-9c42-43a8-b5e6-3a66ad434836',\n",
       " 6: '4ccfceb2-7159-4adb-a002-f1f766a67119',\n",
       " 7: 'a91eb3e4-f319-4fca-80b7-dd5c62a0b91f',\n",
       " 8: '695108f8-e84b-4bf8-8b08-552c2814244f',\n",
       " 9: '8ce8bdbb-2d98-4c6c-bca6-4411527ec5fa',\n",
       " 10: '68e3bfbd-f896-43dd-a997-91b08079423b',\n",
       " 11: 'ed96d121-2b47-4d6d-9c3c-0a3a2ec17aac',\n",
       " 12: 'cf2ff82c-bcc7-487c-9ced-e5ef12e27a35',\n",
       " 13: '6a5d3140-0acd-4999-bb65-9b0ac938043e'}"
      ]
     },
     "execution_count": 15,
     "metadata": {},
     "output_type": "execute_result"
    }
   ],
   "source": [
    "vector_store.index_to_docstore_id"
   ]
  },
  {
   "cell_type": "code",
   "execution_count": 16,
   "id": "e4070e3a",
   "metadata": {},
   "outputs": [
    {
     "data": {
      "text/plain": [
       "[Document(id='cf2ff82c-bcc7-487c-9ced-e5ef12e27a35', metadata={}, page_content=\"up each day see it through M no it's allor right just passing time I'll watch it fake can't do too\"),\n",
       " Document(id='6a5d3140-0acd-4999-bb65-9b0ac938043e', metadata={}, page_content=\"fake can't do too much anyways in this small town it away I'm doing fun\")]"
      ]
     },
     "execution_count": 16,
     "metadata": {},
     "output_type": "execute_result"
    }
   ],
   "source": [
    "vector_store.get_by_ids(\n",
    "    [\"cf2ff82c-bcc7-487c-9ced-e5ef12e27a35\", \"6a5d3140-0acd-4999-bb65-9b0ac938043e\"]\n",
    ")"
   ]
  },
  {
   "cell_type": "markdown",
   "id": "c1ac0fba",
   "metadata": {},
   "source": [
    "# Retrival"
   ]
  },
  {
   "cell_type": "code",
   "execution_count": null,
   "id": "1ef435aa",
   "metadata": {},
   "outputs": [
    {
     "data": {
      "text/plain": [
       "VectorStoreRetriever(tags=['FAISS', 'HuggingFaceEmbeddings'], vectorstore=<langchain_community.vectorstores.faiss.FAISS object at 0x00000130B436DD10>, search_kwargs={'k': 2})"
      ]
     },
     "execution_count": 19,
     "metadata": {},
     "output_type": "execute_result"
    }
   ],
   "source": [
    "retriver=vector_store.as_retriever(search_type='similarity', search_kwargs={\"k\":2})\n",
    "retriver"
   ]
  },
  {
   "cell_type": "code",
   "execution_count": 20,
   "id": "87aa3bfc",
   "metadata": {},
   "outputs": [
    {
     "data": {
      "text/plain": [
       "[Document(id='a91eb3e4-f319-4fca-80b7-dd5c62a0b91f', metadata={}, page_content=\"just really good at ly I don't really know lately I've been on autopilot in my mind keeps me awake\"),\n",
       " Document(id='8ce8bdbb-2d98-4c6c-bca6-4411527ec5fa', metadata={}, page_content=\"to sleep when I'm overthinking every little thing but I'm taking my pills and I'm paying my bills\")]"
      ]
     },
     "execution_count": 20,
     "metadata": {},
     "output_type": "execute_result"
    }
   ],
   "source": [
    "retriver.invoke(input=\"How is my life?\")"
   ]
  },
  {
   "cell_type": "markdown",
   "id": "86a0e947",
   "metadata": {},
   "source": [
    "# Augmentation"
   ]
  },
  {
   "cell_type": "code",
   "execution_count": 21,
   "id": "62d6a590",
   "metadata": {},
   "outputs": [],
   "source": [
    "llm=ChatGoogleGenerativeAI(model='gemini-1.5-pro')"
   ]
  },
  {
   "cell_type": "code",
   "execution_count": null,
   "id": "9957af6b",
   "metadata": {},
   "outputs": [],
   "source": [
    "prompt = PromptTemplate(\n",
    "    template=\"\"\"\n",
    "    You are helpful assistant who give answer from the youtube transcript.\n",
    "    Answer only from the provided transcript context.\n",
    "    The context is retrived using RecursiveCharacterTextSplitter in langchain.\n",
    "    If the context is insufficient try to manage it if possible otherwise just say you don't know.\n",
    "    context: {context} \\n\n",
    "    question: {question}\n",
    "\"\"\",\n",
    "    input_variables=[\"context\", \"question\"],\n",
    ")"
   ]
  },
  {
   "cell_type": "code",
   "execution_count": 24,
   "id": "2a6f4633",
   "metadata": {},
   "outputs": [
    {
     "data": {
      "text/plain": [
       "[Document(id='a91eb3e4-f319-4fca-80b7-dd5c62a0b91f', metadata={}, page_content=\"just really good at ly I don't really know lately I've been on autopilot in my mind keeps me awake\"),\n",
       " Document(id='ed96d121-2b47-4d6d-9c3c-0a3a2ec17aac', metadata={}, page_content=\"that tomorrow I can say that I'm doing fine all right okay Sun keeps coming up each day see it\")]"
      ]
     },
     "execution_count": 24,
     "metadata": {},
     "output_type": "execute_result"
    }
   ],
   "source": [
    "q=\"How is the life?\"\n",
    "retrived_docs=retriver.invoke(q)\n",
    "retrived_docs"
   ]
  },
  {
   "cell_type": "code",
   "execution_count": 26,
   "id": "a29bf878",
   "metadata": {},
   "outputs": [
    {
     "data": {
      "text/plain": [
       "\"just really good at ly I don't really know lately I've been on autopilot in my mind keeps me awake\\nthat tomorrow I can say that I'm doing fine all right okay Sun keeps coming up each day see it\""
      ]
     },
     "execution_count": 26,
     "metadata": {},
     "output_type": "execute_result"
    }
   ],
   "source": [
    "context_text=\"\\n\".join(doc.page_content for doc in retrived_docs)\n",
    "context_text"
   ]
  },
  {
   "cell_type": "code",
   "execution_count": 27,
   "id": "a3fefb55",
   "metadata": {},
   "outputs": [
    {
     "data": {
      "text/plain": [
       "StringPromptValue(text=\"\\n    You are helpful assistant who give answer from the youtube transcript.\\n    Answer only from the provided transcript context.\\n    The context is retrived using RecursiveCharacterTextSplitter in langchain.\\n    If the context is insufficient try to manage it if possible otherwise just say you don't know.\\n    context: just really good at ly I don't really know lately I've been on autopilot in my mind keeps me awake\\nthat tomorrow I can say that I'm doing fine all right okay Sun keeps coming up each day see it \\n\\n    question: How is the life?\\n\")"
      ]
     },
     "execution_count": 27,
     "metadata": {},
     "output_type": "execute_result"
    }
   ],
   "source": [
    "final_prompt=prompt.invoke({\"context\":context_text, \"question\":q})\n",
    "final_prompt"
   ]
  },
  {
   "cell_type": "markdown",
   "id": "acaf3ff6",
   "metadata": {},
   "source": [
    "# Generation"
   ]
  },
  {
   "cell_type": "code",
   "execution_count": 28,
   "id": "c707b686",
   "metadata": {},
   "outputs": [
    {
     "data": {
      "text/plain": [
       "AIMessage(content='The speaker describes being on autopilot lately and having trouble sleeping, but also expresses hope that tomorrow will be better, saying they\\'ll be \"doing fine.\"  They also acknowledge the sun keeps rising each day.  So it seems like a mixed bag, with some struggles but also a sense of perseverance.', additional_kwargs={}, response_metadata={'prompt_feedback': {'block_reason': 0, 'safety_ratings': []}, 'finish_reason': 'STOP', 'safety_ratings': []}, id='run-a68785eb-4961-4a09-9f16-ac84b50b7de0-0', usage_metadata={'input_tokens': 125, 'output_tokens': 62, 'total_tokens': 187, 'input_token_details': {'cache_read': 0}})"
      ]
     },
     "execution_count": 28,
     "metadata": {},
     "output_type": "execute_result"
    }
   ],
   "source": [
    "answer=llm.invoke(final_prompt)\n",
    "answer"
   ]
  },
  {
   "cell_type": "code",
   "execution_count": 29,
   "id": "9a56cd3b",
   "metadata": {},
   "outputs": [
    {
     "name": "stdout",
     "output_type": "stream",
     "text": [
      "The speaker describes being on autopilot lately and having trouble sleeping, but also expresses hope that tomorrow will be better, saying they'll be \"doing fine.\"  They also acknowledge the sun keeps rising each day.  So it seems like a mixed bag, with some struggles but also a sense of perseverance.\n"
     ]
    }
   ],
   "source": [
    "print(answer.content)"
   ]
  },
  {
   "cell_type": "markdown",
   "id": "78de61cf",
   "metadata": {},
   "source": [
    "# Building Chain"
   ]
  },
  {
   "cell_type": "code",
   "execution_count": null,
   "id": "7e6c58af",
   "metadata": {},
   "outputs": [],
   "source": [
    "from langchain_core.runnables import RunnableParallel, RunnableLambda, RunnablePassthrough\n",
    "from langchain_core.output_parsers import StrOutputParser\n",
    "from youtube_transcript_api import YouTubeTranscriptApi, TranscriptsDisabled\n",
    "from langchain.text_splitter import RecursiveCharacterTextSplitter\n",
    "from langchain_google_genai import ChatGoogleGenerativeAI\n",
    "from langchain_huggingface import HuggingFaceEmbeddings\n",
    "from langchain_core.prompts import PromptTemplate\n",
    "from langchain_community.vectorstores import FAISS\n",
    "from dotenv import load_dotenv\n",
    "load_dotenv()"
   ]
  },
  {
   "cell_type": "code",
   "execution_count": 10,
   "id": "82578100",
   "metadata": {},
   "outputs": [],
   "source": [
    "def format_docs(retrived_docs):\n",
    "    return \"\\n\".join(doc.page_content for doc in retrived_docs)"
   ]
  },
  {
   "cell_type": "code",
   "execution_count": 11,
   "id": "008495ba",
   "metadata": {},
   "outputs": [
    {
     "name": "stdout",
     "output_type": "stream",
     "text": [
      "[Music] I've been staying inside too much lately probably contributes to my anxiety doctor says I need to get more vitamin D so I take a supplement two times a week if you got inside my head you see there's no point in going to therapy at least that's what I tell myself cuz I don't need another purchase added to my monthly Fe I'm doing fine all right okay Sun keeps coming up each day see it do M no Shades it's all right just passing time I watch it fake can't do too much anyways in this small town it way I'm doing fun I swear I'm doing am I really fine or am I just really good at ly I don't really know lately I've been on autopilot in my mind keeps me awake every single night I stay up late I don't know how to sleep when I'm overthinking every little thing but I'm taking my pills and I'm paying my bills so I do I still feel the same guess I play this guitar hoping that tomorrow I can say that I'm doing fine all right okay Sun keeps coming up each day see it through M no it's allor right just passing time I'll watch it fake can't do too much anyways in this small town it away I'm doing fun\n"
     ]
    }
   ],
   "source": [
    "video_id=\"M2UXb_bxQ2U\"\n",
    "try:\n",
    "    transcript_list=YouTubeTranscriptApi.get_transcript(video_id=video_id, languages=[\"en\"])\n",
    "    transcript=\" \".join(chunk[\"text\"] for chunk in transcript_list)\n",
    "    print(transcript)\n",
    "except TranscriptsDisabled:\n",
    "    print(\"no caption available\")\n",
    "splitter=RecursiveCharacterTextSplitter(chunk_size=100, chunk_overlap=20)\n",
    "chunks=splitter.create_documents([transcript])"
   ]
  },
  {
   "cell_type": "code",
   "execution_count": 12,
   "id": "1225e262",
   "metadata": {},
   "outputs": [],
   "source": [
    "embedding=HuggingFaceEmbeddings(model_name=\"sentence-transformers/paraphrase-MiniLM-L3-v2\")\n",
    "vector_store=FAISS.from_documents(chunks, embedding=embedding)\n",
    "retriver=vector_store.as_retriever(search_type='similarity', search_kwargs={\"k\":2})"
   ]
  },
  {
   "cell_type": "code",
   "execution_count": 16,
   "id": "bbbba976",
   "metadata": {},
   "outputs": [],
   "source": [
    "llm=ChatGoogleGenerativeAI(model='gemini-1.5-pro')\n",
    "prompt = PromptTemplate(\n",
    "    template=\"\"\"\n",
    "    You are helpful assistant who give answer from the youtube transcript.\n",
    "    Answer only from the provided transcript context.\n",
    "    The context is retrived using RecursiveCharacterTextSplitter in langchain.\n",
    "    If the context is insufficient try to manage it if possible otherwise just say you don't know.\n",
    "    context: {context} \\n\n",
    "    question: {question}\n",
    "\"\"\",\n",
    "    input_variables=[\"context\", \"question\"],\n",
    ")"
   ]
  },
  {
   "cell_type": "code",
   "execution_count": 13,
   "id": "58afe226",
   "metadata": {},
   "outputs": [],
   "source": [
    "parallel_chain = RunnableParallel(\n",
    "    {\n",
    "        \"context\": retriver | RunnableLambda(format_docs),\n",
    "        \"question\": RunnablePassthrough(),\n",
    "    }\n",
    ")"
   ]
  },
  {
   "cell_type": "code",
   "execution_count": 15,
   "id": "3d62a671",
   "metadata": {},
   "outputs": [
    {
     "data": {
      "text/plain": [
       "{'context': \"this small town it way I'm doing fun I swear I'm doing am I really fine or am I just really good at\\nthat's what I tell myself cuz I don't need another purchase added to my monthly Fe I'm doing fine\",\n",
       " 'question': 'What am I doing'}"
      ]
     },
     "execution_count": 15,
     "metadata": {},
     "output_type": "execute_result"
    }
   ],
   "source": [
    "parallel_chain.invoke(input='What am I doing')"
   ]
  },
  {
   "cell_type": "code",
   "execution_count": 17,
   "id": "3f55ba49",
   "metadata": {},
   "outputs": [],
   "source": [
    "parser=StrOutputParser()"
   ]
  },
  {
   "cell_type": "code",
   "execution_count": 18,
   "id": "978721f1",
   "metadata": {},
   "outputs": [],
   "source": [
    "main_chain=parallel_chain | prompt | llm | parser"
   ]
  },
  {
   "cell_type": "code",
   "execution_count": 19,
   "id": "5297f329",
   "metadata": {},
   "outputs": [
    {
     "data": {
      "text/plain": [
       "'The speaker expresses feelings of futility and a sense of just \"passing time.\" They mention faking something they \"can\\'t do,\" and believe there\\'s no point in therapy, or at least that\\'s what they tell themselves.'"
      ]
     },
     "execution_count": 19,
     "metadata": {},
     "output_type": "execute_result"
    }
   ],
   "source": [
    "main_chain.invoke('Can you summarize the video')"
   ]
  }
 ],
 "metadata": {
  "kernelspec": {
   "display_name": "env",
   "language": "python",
   "name": "python3"
  },
  "language_info": {
   "codemirror_mode": {
    "name": "ipython",
    "version": 3
   },
   "file_extension": ".py",
   "mimetype": "text/x-python",
   "name": "python",
   "nbconvert_exporter": "python",
   "pygments_lexer": "ipython3",
   "version": "3.11.0"
  }
 },
 "nbformat": 4,
 "nbformat_minor": 5
}
